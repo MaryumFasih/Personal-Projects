{
  "cells": [
    {
      "cell_type": "markdown",
      "metadata": {},
      "source": [
        "# Maryum Fasih\n",
        "# 22i-0756\n",
        "# H"
      ]
    },
    {
      "cell_type": "code",
      "execution_count": 1,
      "metadata": {
        "id": "xJpk-nh62RE6"
      },
      "outputs": [],
      "source": [
        "import torch\n",
        "import numpy as np\n",
        "import torch.nn as nn\n",
        "import torch.nn.functional as F\n",
        "import pandas as pd\n",
        "import matplotlib.pyplot as plt\n",
        "%matplotlib inline\n"
      ]
    },
    {
      "cell_type": "markdown",
      "metadata": {
        "id": "NE3X7-6r6TTJ"
      },
      "source": [
        "Create the Neural Network Model using nn.module"
      ]
    },
    {
      "cell_type": "code",
      "execution_count": 2,
      "metadata": {
        "id": "ytrZF6ZI3T05"
      },
      "outputs": [],
      "source": [
        "# Model to classify types of Irises\n",
        "# there are 4 inputs and there are 3 outputs\n",
        "\n",
        "class IrisClassifier(nn.Module):\n",
        "    def __init__(self, input_dim=4, layer1_units=8, layer2_units=9, output_dim=3):\n",
        "        super().__init__()\n",
        "        # Defining the layers of the network\n",
        "        self.hidden_layer1 = nn.Linear(input_dim, layer1_units)\n",
        "        self.hidden_layer2 = nn.Linear(layer1_units, layer2_units)\n",
        "        self.output_layer = nn.Linear(layer2_units, output_dim)\n",
        "\n",
        "    def forward(self, x):\n",
        "        # Applying ReLU activation on the hidden layers\n",
        "        x = F.relu(self.hidden_layer1(x))\n",
        "        x = F.relu(self.hidden_layer2(x))\n",
        "        # Output layer computation\n",
        "        x = self.output_layer(x)\n",
        "        return x"
      ]
    },
    {
      "cell_type": "code",
      "execution_count": 3,
      "metadata": {
        "id": "QPV9JK6r3b-h"
      },
      "outputs": [],
      "source": [
        "torch.manual_seed(41)\n",
        "\n",
        "iris_model = IrisClassifier()"
      ]
    },
    {
      "cell_type": "markdown",
      "metadata": {
        "id": "Smtb2TTn66vc"
      },
      "source": [
        "# Data Preprocessing\n",
        "Split the dataset, extract the features and normalize if needed, and convert the labels into tensors using LongTensor()"
      ]
    },
    {
      "cell_type": "code",
      "execution_count": 4,
      "metadata": {
        "id": "jX9SJYpp2v5-"
      },
      "outputs": [],
      "source": [
        "url = 'https://gist.githubusercontent.com/curran/a08a1080b88344b0c8a7/raw/0e7a9b0a5d22642a06d3d5b9bcbad9890c8ee534/iris.csv'\n",
        "df = pd.read_csv(url)"
      ]
    },
    {
      "cell_type": "code",
      "execution_count": 5,
      "metadata": {
        "id": "uSqQLwD921g9"
      },
      "outputs": [
        {
          "data": {
            "text/html": [
              "<div>\n",
              "<style scoped>\n",
              "    .dataframe tbody tr th:only-of-type {\n",
              "        vertical-align: middle;\n",
              "    }\n",
              "\n",
              "    .dataframe tbody tr th {\n",
              "        vertical-align: top;\n",
              "    }\n",
              "\n",
              "    .dataframe thead th {\n",
              "        text-align: right;\n",
              "    }\n",
              "</style>\n",
              "<table border=\"1\" class=\"dataframe\">\n",
              "  <thead>\n",
              "    <tr style=\"text-align: right;\">\n",
              "      <th></th>\n",
              "      <th>sepal_length</th>\n",
              "      <th>sepal_width</th>\n",
              "      <th>petal_length</th>\n",
              "      <th>petal_width</th>\n",
              "      <th>species</th>\n",
              "    </tr>\n",
              "  </thead>\n",
              "  <tbody>\n",
              "    <tr>\n",
              "      <th>0</th>\n",
              "      <td>5.1</td>\n",
              "      <td>3.5</td>\n",
              "      <td>1.4</td>\n",
              "      <td>0.2</td>\n",
              "      <td>setosa</td>\n",
              "    </tr>\n",
              "    <tr>\n",
              "      <th>1</th>\n",
              "      <td>4.9</td>\n",
              "      <td>3.0</td>\n",
              "      <td>1.4</td>\n",
              "      <td>0.2</td>\n",
              "      <td>setosa</td>\n",
              "    </tr>\n",
              "    <tr>\n",
              "      <th>2</th>\n",
              "      <td>4.7</td>\n",
              "      <td>3.2</td>\n",
              "      <td>1.3</td>\n",
              "      <td>0.2</td>\n",
              "      <td>setosa</td>\n",
              "    </tr>\n",
              "    <tr>\n",
              "      <th>3</th>\n",
              "      <td>4.6</td>\n",
              "      <td>3.1</td>\n",
              "      <td>1.5</td>\n",
              "      <td>0.2</td>\n",
              "      <td>setosa</td>\n",
              "    </tr>\n",
              "    <tr>\n",
              "      <th>4</th>\n",
              "      <td>5.0</td>\n",
              "      <td>3.6</td>\n",
              "      <td>1.4</td>\n",
              "      <td>0.2</td>\n",
              "      <td>setosa</td>\n",
              "    </tr>\n",
              "  </tbody>\n",
              "</table>\n",
              "</div>"
            ],
            "text/plain": [
              "   sepal_length  sepal_width  petal_length  petal_width species\n",
              "0           5.1          3.5           1.4          0.2  setosa\n",
              "1           4.9          3.0           1.4          0.2  setosa\n",
              "2           4.7          3.2           1.3          0.2  setosa\n",
              "3           4.6          3.1           1.5          0.2  setosa\n",
              "4           5.0          3.6           1.4          0.2  setosa"
            ]
          },
          "execution_count": 5,
          "metadata": {},
          "output_type": "execute_result"
        }
      ],
      "source": [
        "df.head()"
      ]
    },
    {
      "cell_type": "code",
      "execution_count": 6,
      "metadata": {
        "id": "NTqmfFnJ3APG"
      },
      "outputs": [],
      "source": [
        "from sklearn.model_selection import train_test_split\n",
        "from sklearn.preprocessing import LabelEncoder\n",
        "from sklearn.preprocessing import StandardScaler\n",
        "\n",
        "# Split the dataset into features (X) and target labels (y)\n",
        "X_data = df.drop('species', axis=1).values\n",
        "y_data = df['species'].values\n",
        "\n",
        "# Convert string labels to numeric using LabelEncoder\n",
        "encoder = LabelEncoder()\n",
        "y_data = encoder.fit_transform(y_data)  # Converts labels to 0,1,2\n",
        "\n",
        "# Normalize the features to have mean 0 and variance 1\n",
        "feature_scaler = StandardScaler()\n",
        "X_data = feature_scaler.fit_transform(X_data)\n",
        "\n",
        "# Convert to PyTorch tensors\n",
        "X_data = torch.tensor(X_data, dtype=torch.float32)\n",
        "y_data = torch.tensor(y_data, dtype=torch.long)  # Long type for CrossEntropyLoss\n",
        "\n",
        "# Split data into training and testing sets (80% train, 20% test)\n",
        "X_train_data, X_test_data, y_train_data, y_test_data = train_test_split(X_data, y_data, test_size=0.2, random_state=42)\n"
      ]
    },
    {
      "cell_type": "markdown",
      "metadata": {
        "id": "bJga_iln8d6N"
      },
      "source": [
        "Set the Loss Function and optimizer"
      ]
    },
    {
      "cell_type": "code",
      "execution_count": 7,
      "metadata": {
        "id": "w0bAkNpS3Nyf"
      },
      "outputs": [],
      "source": [
        "iris_classifier_model = IrisClassifier()\n",
        "\n",
        "# Define the loss function (CrossEntropy) and optimizer (Adam)\n",
        "loss_fn = nn.CrossEntropyLoss()\n",
        "optimizer = torch.optim.Adam(iris_classifier_model.parameters(), lr=0.01)"
      ]
    },
    {
      "cell_type": "markdown",
      "metadata": {
        "id": "ccWIglSA8qQe"
      },
      "source": [
        "# Train the model"
      ]
    },
    {
      "cell_type": "code",
      "execution_count": 8,
      "metadata": {
        "id": "4Q_Fu2WN3fHp"
      },
      "outputs": [
        {
          "name": "stdout",
          "output_type": "stream",
          "text": [
            "Epoch 0 - Loss: 1.1310\n",
            "Epoch 10 - Loss: 0.8256\n",
            "Epoch 20 - Loss: 0.4981\n",
            "Epoch 30 - Loss: 0.3507\n",
            "Epoch 40 - Loss: 0.2545\n",
            "Epoch 50 - Loss: 0.1746\n",
            "Epoch 60 - Loss: 0.1170\n",
            "Epoch 70 - Loss: 0.0845\n",
            "Epoch 80 - Loss: 0.0681\n",
            "Epoch 90 - Loss: 0.0599\n"
          ]
        }
      ],
      "source": [
        "epochs = 100\n",
        "training_loss = []\n",
        "\n",
        "for epoch in range(epochs):\n",
        "    iris_classifier_model.train()\n",
        "\n",
        "    # Perform forward pass to get model predictions\n",
        "    predictions = iris_classifier_model(X_train_data)\n",
        "    \n",
        "    # Calculate the loss using the true labels and predictions\n",
        "    loss_value = loss_fn(predictions, y_train_data)\n",
        "    training_loss.append(loss_value.item())\n",
        "\n",
        "    # Zero out gradients to prevent accumulation from previous steps\n",
        "    optimizer.zero_grad()\n",
        "    \n",
        "    # Perform backward pass to compute gradients\n",
        "    loss_value.backward()\n",
        "    \n",
        "    # Update model weights based on gradients\n",
        "    optimizer.step()\n",
        "    \n",
        "    # Print progress every 10 epochs\n",
        "    if epoch % 10 == 0:\n",
        "        print(f\"Epoch {epoch} - Loss: {loss_value.item():.4f}\")"
      ]
    },
    {
      "cell_type": "markdown",
      "metadata": {
        "id": "ZT4Z2jI68zl2"
      },
      "source": [
        "# Graph the losses per epoch"
      ]
    },
    {
      "cell_type": "code",
      "execution_count": 9,
      "metadata": {
        "id": "An4HqBux3sQL"
      },
      "outputs": [
        {
          "data": {
            "image/png": "[encoded data removed]",
            "text/plain": [
              "<Figure size 800x500 with 1 Axes>"
            ]
          },
          "metadata": {},
          "output_type": "display_data"
        }
      ],
      "source": [
        "# Plotting the training loss over epochs\n",
        "plt.figure(figsize=(8, 5))\n",
        "plt.plot(range(1, len(training_loss) + 1), training_loss, marker='o', color='blue')\n",
        "plt.title(\"Training Loss per Epoch\")\n",
        "plt.xlabel(\"Epoch\")\n",
        "plt.ylabel(\"Loss\")\n",
        "plt.grid(True)\n",
        "plt.tight_layout()\n",
        "plt.show()\n"
      ]
    },
    {
      "cell_type": "markdown",
      "metadata": {
        "id": "tIvCEf7s9KGQ"
      },
      "source": [
        "# Test the model on the test set"
      ]
    },
    {
      "cell_type": "code",
      "execution_count": 10,
      "metadata": {
        "id": "IqvRKpoc3wO7"
      },
      "outputs": [
        {
          "name": "stdout",
          "output_type": "stream",
          "text": [
            "Test Accuracy: 100.00%\n"
          ]
        }
      ],
      "source": [
        "# Evaluate the Model on the Test Data (validate the model on test set)\n",
        "iris_classifier_model.eval()  # Set the model to evaluation mode\n",
        "\n",
        "with torch.no_grad():  # Disable gradient calculation for testing\n",
        "    y_test_predictions = iris_classifier_model(X_test_data)\n",
        "\n",
        "# Get predicted classes\n",
        "predicted_classes = torch.argmax(y_test_predictions, dim=1)\n",
        "\n",
        "# Calculate accuracy\n",
        "correct_predictions = (predicted_classes == y_test_data).sum().item()\n",
        "test_accuracy = correct_predictions / y_test_data.size(0)\n",
        "print(f\"Test Accuracy: {test_accuracy * 100:.2f}%\")\n"
      ]
    },
    {
      "cell_type": "code",
      "execution_count": 11,
      "metadata": {
        "id": "UyjZiWnh3zq8"
      },
      "outputs": [
        {
          "name": "stdout",
          "output_type": "stream",
          "text": [
            "Confusion Matrix:\n",
            " [[10  0  0]\n",
            " [ 0  9  0]\n",
            " [ 0  0 11]]\n",
            "\n",
            "Classification Report:\n",
            "               precision    recall  f1-score   support\n",
            "\n",
            "      setosa       1.00      1.00      1.00        10\n",
            "  versicolor       1.00      1.00      1.00         9\n",
            "   virginica       1.00      1.00      1.00        11\n",
            "\n",
            "    accuracy                           1.00        30\n",
            "   macro avg       1.00      1.00      1.00        30\n",
            "weighted avg       1.00      1.00      1.00        30\n",
            "\n"
          ]
        }
      ],
      "source": [
        "from sklearn.metrics import confusion_matrix, classification_report\n",
        "\n",
        "# Convert tensors to numpy arrays\n",
        "y_test_numpy = y_test_data.numpy()\n",
        "predicted_classes_numpy = predicted_classes.numpy()\n",
        "\n",
        "# Confusion Matrix\n",
        "conf_matrix = confusion_matrix(y_test_numpy, predicted_classes_numpy)\n",
        "print(\"Confusion Matrix:\\n\", conf_matrix)\n",
        "\n",
        "# Classification Report\n",
        "print(\"\\nClassification Report:\\n\", classification_report(y_test_numpy, predicted_classes_numpy, target_names=encoder.classes_))\n"
      ]
    },
    {
      "cell_type": "code",
      "execution_count": null,
      "metadata": {},
      "outputs": [],
      "source": []
    }
  ],
  "metadata": {
    "colab": {
      "provenance": []
    },
    "kernelspec": {
      "display_name": "Python 3",
      "language": "python",
      "name": "python3"
    },
    "language_info": {
      "codemirror_mode": {
        "name": "ipython",
        "version": 3
      },
      "file_extension": ".py",
      "mimetype": "text/x-python",
      "name": "python",
      "nbconvert_exporter": "python",
      "pygments_lexer": "ipython3",
      "version": "3.12.2"
    }
  },
  "nbformat": 4,
  "nbformat_minor": 0
}
